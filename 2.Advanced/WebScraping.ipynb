{
 "cells": [
  {
   "cell_type": "markdown",
   "metadata": {},
   "source": []
  },
  {
   "cell_type": "code",
   "execution_count": 7,
   "metadata": {},
   "outputs": [
    {
     "data": {
      "text/plain": [
       "'Example Domain'"
      ]
     },
     "execution_count": 7,
     "metadata": {},
     "output_type": "execute_result"
    }
   ],
   "source": [
    "import requests\n",
    "import bs4\n",
    "\n",
    "result = requests.get('http://www.example.com')\n",
    "\n",
    "soup = bs4.BeautifulSoup(result.text, 'lxml')\n",
    "\n",
    "soup.select('title')[0].getText() # return as list"
   ]
  },
  {
   "cell_type": "code",
   "execution_count": 11,
   "metadata": {},
   "outputs": [
    {
     "data": {
      "text/plain": [
       "'This domain is for use in illustrative examples in documents. You may use this\\n    domain in literature without prior coordination or asking for permission.'"
      ]
     },
     "execution_count": 11,
     "metadata": {},
     "output_type": "execute_result"
    }
   ],
   "source": [
    "site_paragraphs = soup.select('p')\n",
    "\n",
    "site_paragraphs[0].getText()"
   ]
  },
  {
   "cell_type": "code",
   "execution_count": null,
   "metadata": {},
   "outputs": [],
   "source": [
    "res = requests.get('https://en.wikipedia.org/wiki/Grace_Hopper')\n",
    "\n",
    "soup =  bs4.BeautifulSoup(res.text, \"lxml\")\n",
    " \n",
    "#soup.select('.vector-toc-text')[0].text\n",
    "\n",
    "for item in soup.select('.vector-toc-text'):\n",
    "    print(item.text)"
   ]
  },
  {
   "cell_type": "code",
   "execution_count": 40,
   "metadata": {},
   "outputs": [
    {
     "data": {
      "text/plain": [
       "'//upload.wikimedia.org/wikipedia/commons/thumb/b/be/Deep_Blue.jpg/220px-Deep_Blue.jpg'"
      ]
     },
     "execution_count": 40,
     "metadata": {},
     "output_type": "execute_result"
    }
   ],
   "source": [
    "res = requests.get('https://en.wikipedia.org/wiki/Deep_Blue_(chess_computer)')\n",
    "\n",
    "soup = bs4.BeautifulSoup(res.text, 'lxml')\n",
    "\n",
    "computer = soup.select('.infobox-image > span > a > img')[0]\n",
    "\n",
    "computer['src']"
   ]
  },
  {
   "cell_type": "markdown",
   "metadata": {},
   "source": [
    "<img src=\"//upload.wikimedia.org/wikipedia/commons/thumb/b/be/Deep_Blue.jpg/220px-Deep_Blue.jpg\">"
   ]
  },
  {
   "cell_type": "code",
   "execution_count": 41,
   "metadata": {},
   "outputs": [
    {
     "data": {
      "text/plain": [
       "18448"
      ]
     },
     "execution_count": 41,
     "metadata": {},
     "output_type": "execute_result"
    }
   ],
   "source": [
    "image_link = requests.get('https://upload.wikimedia.org/wikipedia/commons/thumb/b/be/Deep_Blue.jpg/220px-Deep_Blue.jpg')\n",
    "\n",
    "image_link.content\n",
    "\n",
    "f = open('my_computer_image.jpg', 'wb')\n",
    "\n",
    "f.write(image_link.content)"
   ]
  },
  {
   "cell_type": "code",
   "execution_count": null,
   "metadata": {},
   "outputs": [],
   "source": [
    "import requests, bs4\n",
    "\n",
    "# http://books.toscrape.com/catalogue/page-1.html\n",
    "\n",
    "base_url = 'http://books.toscrape.com/catalogue/page-{}.html'\n",
    "\n",
    "res = requests.get(base_url.format(1))\n",
    "\n",
    "soup = bs4.BeautifulSoup(res.text, 'lxml')\n",
    "\n",
    "for idx in range (1, 51):\n",
    "\n",
    "    res = requests.get(base_url.format(idx))\n",
    "\n",
    "    soup = bs4.BeautifulSoup(res.text, 'lxml')\n",
    "\n",
    "    for book in soup.select(\".product_pod\"):\n",
    "\n",
    "        if len(book.select('.star-rating.Two')) > 0:\n",
    "            print(book.select('a')[1]['title'])\n"
   ]
  }
 ],
 "metadata": {
  "kernelspec": {
   "display_name": "base",
   "language": "python",
   "name": "python3"
  },
  "language_info": {
   "codemirror_mode": {
    "name": "ipython",
    "version": 3
   },
   "file_extension": ".py",
   "mimetype": "text/x-python",
   "name": "python",
   "nbconvert_exporter": "python",
   "pygments_lexer": "ipython3",
   "version": "3.8.10"
  }
 },
 "nbformat": 4,
 "nbformat_minor": 2
}
