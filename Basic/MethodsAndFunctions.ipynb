{
 "cells": [
  {
   "cell_type": "markdown",
   "metadata": {},
   "source": [
    "#### Function\n",
    "\n",
    "```python\n",
    "# using snake casing for function name\n",
    "# snake casing is all lowercase with underscores between words\n",
    "def name_of_funciton():\n",
    "    '''\n",
    "    docstring explains function\n",
    "    '''\n",
    "    print('Hello World')\n",
    "\n",
    "def say_hello(name='DefaultValue'):\n",
    "    print(f'Hello {name}')\n",
    "```"
   ]
  },
  {
   "cell_type": "code",
   "execution_count": 4,
   "metadata": {},
   "outputs": [
    {
     "name": "stdout",
     "output_type": "stream",
     "text": [
      "Try one more time\n",
      "['O', ' ', ' ']\n"
     ]
    }
   ],
   "source": [
    "from random import shuffle\n",
    "\n",
    "example = [x for x in range (0, 11)]\n",
    "\n",
    "def shuffle_list(mylist):\n",
    "    shuffle(mylist)\n",
    "    return mylist\n",
    "\n",
    "mylist = [' ', 'O', ' ']\n",
    "\n",
    "def player_guess():\n",
    "    guess = ''\n",
    "\n",
    "    while guess not in ['0', '1', '2']:\n",
    "        guess = input('Pick a number: 0, 1, or 2')\n",
    "    \n",
    "    return int(guess)\n",
    "\n",
    "def check_guess(mylist, guess):\n",
    "    if mylist[guess] == 'O':\n",
    "        return print('You are correct')\n",
    "    else:\n",
    "        print(\"Try one more time\")\n",
    "        print(mylist)\n",
    "\n",
    "shuffle_list(mylist)\n",
    "\n",
    "# pass function as parameter\n",
    "check_guess(mylist, player_guess())\n",
    "\n"
   ]
  },
  {
   "cell_type": "markdown",
   "metadata": {},
   "source": [
    "`*args` and `**kwargs`\n",
    "- `*args`: an arbitrary arguments, treat as tuple\n",
    "- `**kwargs`: an arbitrary number of keyword arguments, treat as dictionary\n",
    "\n",
    "```python\n",
    "# treat this as a tuple parameter\n",
    "def myfunc(*args):\n",
    "    return sum(args) * 0.05\n",
    "\n",
    "myfunc(1, 2, 3, 4, ....)\n",
    "\n",
    "def myfunc(**kwargs):\n",
    "    if 'fruit' in kwargs:\n",
    "        print('My fruit of choice is {}'.format(kwargs['fruit']))\n",
    "    else:\n",
    "        print('I did not find any fruit here')\n",
    "\n",
    "myfunc(fruit='apple', veggie = 'lettuce')\n",
    "\n",
    "```\n",
    "\n"
   ]
  },
  {
   "cell_type": "code",
   "execution_count": null,
   "metadata": {},
   "outputs": [],
   "source": [
    "s = '1'\n",
    "\n",
    "print(s[0].lower"
   ]
  }
 ],
 "metadata": {
  "kernelspec": {
   "display_name": "base",
   "language": "python",
   "name": "python3"
  },
  "language_info": {
   "codemirror_mode": {
    "name": "ipython",
    "version": 3
   },
   "file_extension": ".py",
   "mimetype": "text/x-python",
   "name": "python",
   "nbconvert_exporter": "python",
   "pygments_lexer": "ipython3",
   "version": "3.8.10"
  }
 },
 "nbformat": 4,
 "nbformat_minor": 2
}
