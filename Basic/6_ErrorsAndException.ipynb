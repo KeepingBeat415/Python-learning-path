{
 "cells": [
  {
   "cell_type": "markdown",
   "metadata": {},
   "source": [
    "#### Exception Handling\n",
    "`try`: the block of code to be attempted\n",
    "`except`: the block of code will execute in case there is an error in try block\n",
    "`finally`: a final block of code to be executed, regardless of an \n",
    "\n",
    "```python\n",
    "def add(n1, n2):\n",
    "    print(n1+n2)\n",
    "\n",
    "try:\n",
    "    add(1, '2')\n",
    "except:\n",
    "    print('Type Error')\n",
    "else:\n",
    "    print(\"Type Correct\")\n",
    "\n",
    "try:\n",
    "    f = open('testfile', 'w')\n",
    "    f.write('write a test line')\n",
    "except TypeError:\n",
    "    print('type error')\n",
    "except OSError:\n",
    "    print('OS error')\n",
    "finally:\n",
    "    print('Good')\n",
    "\n",
    "```\n",
    "\n",
    "#### Unit Test\n",
    "`pylint`: a library that looks at your code and reports back possible issues\n",
    "`unittest`: built-in library will allow to test your own programs and check you are getting desired outputs\n",
    "\n",
    "```python\n",
    "import unitest\n",
    "import cap # import testing python script\n",
    "\n",
    "class TestCap(unittest.TestCase):\n",
    "    def test_one_word(self):\n",
    "        text = 'python'\n",
    "        result = cap.cap_text(text)\n",
    "        self.assertEqual(result, 'Python')\n",
    "\n",
    "if __name__ == '__main__':\n",
    "    unittest.main()\n",
    "```"
   ]
  },
  {
   "cell_type": "markdown",
   "metadata": {},
   "source": [
    "### Decorators\n",
    "Python has decorators that allow you to tack on extra functionality to an already existing function\n",
    "\n",
    "They use the `@` operator and are then placed on top of the original function\n",
    "\n",
    "```python\n",
    "@some_decorator\n",
    "def simple_func():\n",
    "    # do something\n",
    "    return something\n",
    "```\n",
    "\n",
    "Return a function\n",
    "```python\n",
    "def hello(name='Jose'):\n",
    "    print('The hello() function has been executed')\n",
    "\n",
    "    def greet():\n",
    "        return '\\t This is the greet() func inside hello'\n",
    "    def welcome():\n",
    "        return '\\t This is the welcome() func inside hello'\n",
    "\n",
    "    print('I am going to return a function')\n",
    "\n",
    "    if name == 'Jose':\n",
    "        return greet\n",
    "    else:\n",
    "        return welcome\n",
    "\n",
    "my_new_func = hello('Jose')\n",
    "\n",
    "# call return function\n",
    "my_new_func()\n",
    "\n",
    "# passing function as parameter\n",
    "def hello():\n",
    "    return 'Hi Jose'\n",
    "\n",
    "def other(some_def_func):\n",
    "    print('other code return here')\n",
    "    print(some_def_func())\n",
    "\n",
    "other(hello)\n",
    "```"
   ]
  },
  {
   "cell_type": "code",
   "execution_count": 1,
   "metadata": {},
   "outputs": [
    {
     "name": "stdout",
     "output_type": "stream",
     "text": [
      "Some extra code, before the original function\n",
      "I want to be decorated\n",
      "Some extra code, after the original function\n"
     ]
    }
   ],
   "source": [
    "# passing function\n",
    "def new_decorator(original_func):\n",
    "    def wrap_func():\n",
    "        print('Some extra code, before the original function')\n",
    "\n",
    "        original_func()\n",
    "\n",
    "        print('Some extra code, after the original function')\n",
    "    return wrap_func\n",
    "\n",
    "def func_needs_decorator():\n",
    "    print('I want to be decorated')\n",
    "\n",
    "decorated_func = new_decorator(func_needs_decorator)\n",
    "\n",
    "decorated_func()"
   ]
  },
  {
   "cell_type": "code",
   "execution_count": 2,
   "metadata": {},
   "outputs": [
    {
     "name": "stdout",
     "output_type": "stream",
     "text": [
      "Some extra code, before the original function\n",
      "I want to be decorated\n",
      "Some extra code, after the original function\n"
     ]
    }
   ],
   "source": [
    "# using decorator\n",
    "def new_decorator(original_func):\n",
    "    def wrap_func():\n",
    "        print('Some extra code, before the original function')\n",
    "\n",
    "        original_func()\n",
    "\n",
    "        print('Some extra code, after the original function')\n",
    "    return wrap_func\n",
    "\n",
    "@new_decorator\n",
    "def func_needs_decorator():\n",
    "    print('I want to be decorated')\n",
    "\n",
    "func_needs_decorator()"
   ]
  },
  {
   "cell_type": "markdown",
   "metadata": {},
   "source": [
    "#### Generators\n",
    "Generator functions allow us to write a function that can send back a value and then later resume to pick up where it left off\n",
    "- allowing us to generate a sequence of values over time\n",
    "- the main different in syntax will be the use of a yield statement\n",
    "\n",
    "```python\n",
    "# normal function with return list, and store in the memory\n",
    "def create_cubes(n):\n",
    "    result = []\n",
    "    for x in range(n):\n",
    "        result.append(x**3)\n",
    "    return result\n",
    "\n",
    "# generator\n",
    "def create_cubes(n):\n",
    "    for x in range(n):\n",
    "        yield x**3\n",
    "\n",
    "# cover to list, more memory efficient\n",
    "list(create_cubes(10))\n",
    "\n",
    "# fibon number with generator function\n",
    "\n",
    "def gen_fibon(n):\n",
    "    a = 1\n",
    "    b = 1\n",
    "    for i in range(n):\n",
    "        yield a\n",
    "        a, b = b, a+b\n",
    "```\n",
    "\n",
    "Next Function\n",
    "```python\n",
    "def simple_gen():\n",
    "    for x in range(3):\n",
    "        yield x\n",
    "\n",
    "g = simple()\n",
    "\n",
    "next(g) # >> 0\n",
    "next(g) # >> 1 \n",
    "next(g) # >> 2\n",
    "next(g) # >> Error, fetch all number, and reach to limit range 3\n",
    "```"
   ]
  },
  {
   "cell_type": "code",
   "execution_count": 4,
   "metadata": {},
   "outputs": [
    {
     "name": "stdout",
     "output_type": "stream",
     "text": [
      "[1, 1, 2, 3, 5, 8, 13, 21, 34, 55]\n"
     ]
    }
   ],
   "source": [
    "def gen_fibon(n):\n",
    "    a = 1\n",
    "    b = 1\n",
    "    for i in range(n):\n",
    "        yield a\n",
    "        a, b = b, a+b\n",
    "\n",
    "print(list(gen_fibon(10)))"
   ]
  }
 ],
 "metadata": {
  "kernelspec": {
   "display_name": "base",
   "language": "python",
   "name": "python3"
  },
  "language_info": {
   "codemirror_mode": {
    "name": "ipython",
    "version": 3
   },
   "file_extension": ".py",
   "mimetype": "text/x-python",
   "name": "python",
   "nbconvert_exporter": "python",
   "pygments_lexer": "ipython3",
   "version": "3.8.10"
  }
 },
 "nbformat": 4,
 "nbformat_minor": 2
}
