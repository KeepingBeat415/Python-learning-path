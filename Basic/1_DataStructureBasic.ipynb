{
 "cells": [
  {
   "cell_type": "markdown",
   "metadata": {},
   "source": [
    "Python uses *Dynamic Typing*, can reassign variables to different data types\n",
    "\n",
    "```python\n",
    "type() #variable's type\n",
    "\n",
    "mystr = \"Hello World\"\n",
    "\n",
    "mystr[0] # H\n",
    "mystr[-1] # d\n",
    "\n",
    "#slicing function [start:stope:step]\n",
    "mystr = 'abcdefghijk'\n",
    "mystr[2:] # cdefghijk\n",
    "mystr[:3] # abc\n",
    "mystr[::] # abcdefghijk\n",
    "\n",
    "mystr[::2] # acegik\n",
    "mystr[::-1] # kjihgfedcba \n",
    "\n",
    "\n",
    "mystr = 'z'\n",
    "mystr * 10 # >> zzzzzzzzzz\n",
    "\n",
    "\n",
    "# split function\n",
    "mystr.split() # >> default by space\n",
    "mystr.split('i') # >> by 'i'\n",
    "\n",
    "\n",
    "# formatting with the .format() method\n",
    "\n",
    "print('This is a string {}'.format('format'))\n",
    "print('The {2} {1} {0}'.format('fox', 'brown', 'quick'))\n",
    "print('The {q} {b} {f}'.format(f='fox', b='brown', q='quick'))\n",
    "\n",
    "# float formatting follow \"{value:width.precision f}\"\n",
    " print(\"The result was {r:1.3f}\".format(r=result))\n",
    "\n",
    "# F strings or formatted string\n",
    "name = \"Jose\"\n",
    "age = 10\n",
    "print(f'Hello, his name is {name}, and age {age}')\n",
    "\n",
    "# Lists\n",
    "# Lists are ordered sequences that can hold a variety of object types\n",
    "myList = ['One', 1 , 2.3 ]\n",
    "\n",
    "myList.pop() # default last index\n",
    "myList.pop(1) # remove index 1\n",
    "\n",
    "myList.sort() # sort function\n",
    "\n",
    "# Dictionary \n",
    "# Dictionaries are unordered mappings for storing objects, with a key-value pairing, key/value can be different type\n",
    "\n",
    "my_dict = {'key1':'value1', 'key2':'value2'}\n",
    "\n",
    "# Tuples\n",
    "# Tuples are ordered sequences that can hold a variety of object types, with immutability\n",
    "\n",
    "my_Tup = ('one', 2)\n",
    "\n",
    "# Sets\n",
    "# Sets are unordered collections of unique elements\n",
    "\n",
    "my_set = set()\n",
    "my_set.add(1) # >> {1}\n",
    "\n",
    "```\n",
    " "
   ]
  },
  {
   "cell_type": "code",
   "execution_count": 11,
   "metadata": {},
   "outputs": [
    {
     "name": "stdout",
     "output_type": "stream",
     "text": [
      "Overwriting myfile.txt\n"
     ]
    }
   ],
   "source": [
    "%%writefile myfile.txt\n",
    "Hello Python"
   ]
  },
  {
   "cell_type": "code",
   "execution_count": null,
   "metadata": {},
   "outputs": [
    {
     "data": {
      "text/plain": [
       "'Hello Python\\n'"
      ]
     },
     "execution_count": 14,
     "metadata": {},
     "output_type": "execute_result"
    }
   ],
   "source": [
    "# Option 1\n",
    "myFile = open('myfile.txt')\n",
    "\n",
    "myFile.read() # with \\n\n",
    "\n",
    "myFile.seek(0) # move pointer to index 0\n",
    "\n",
    "myFile.readlines # return as list\n",
    "\n",
    "myFile.close()\n",
    "\n",
    "# Option 2\n",
    "with open('myFile.txt') as my_new_file:\n",
    "    contents = my_new_file.read()\n"
   ]
  },
  {
   "cell_type": "code",
   "execution_count": 15,
   "metadata": {},
   "outputs": [
    {
     "data": {
      "text/plain": [
       "'/Users/_seven/Desktop/Python-learning-path/Basic'"
      ]
     },
     "execution_count": 15,
     "metadata": {},
     "output_type": "execute_result"
    }
   ],
   "source": [
    "pwd"
   ]
  }
 ],
 "metadata": {
  "kernelspec": {
   "display_name": "base",
   "language": "python",
   "name": "python3"
  },
  "language_info": {
   "codemirror_mode": {
    "name": "ipython",
    "version": 3
   },
   "file_extension": ".py",
   "mimetype": "text/x-python",
   "name": "python",
   "nbconvert_exporter": "python",
   "pygments_lexer": "ipython3",
   "version": "3.8.10"
  }
 },
 "nbformat": 4,
 "nbformat_minor": 2
}
