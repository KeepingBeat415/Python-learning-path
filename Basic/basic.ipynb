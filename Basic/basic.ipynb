{
 "cells": [
  {
   "cell_type": "markdown",
   "metadata": {},
   "source": [
    "Python uses *Dynamic Typing*, can reassign variables to different data types\n",
    "\n",
    "```python\n",
    "type() #variable's type\n",
    "\n",
    "mystr = \"Hello World\"\n",
    "\n",
    "mystr[0] # H\n",
    "mystr[-1] # d\n",
    "\n",
    "#slicing function [start:stope:step]\n",
    "mystr = 'abcdefghijk'\n",
    "mystr[2:] # cdefghijk\n",
    "mystr[:3] # abc\n",
    "mystr[::] # abcdefghijk\n",
    "\n",
    "mystr[::2] # acegik\n",
    "mystr[::-1] # kjihgfedcba\n",
    "```"
   ]
  },
  {
   "cell_type": "code",
   "execution_count": null,
   "metadata": {},
   "outputs": [
    {
     "data": {
      "text/plain": [
       "'r'"
      ]
     },
     "execution_count": 3,
     "metadata": {},
     "output_type": "execute_result"
    }
   ],
   "source": []
  }
 ],
 "metadata": {
  "kernelspec": {
   "display_name": "base",
   "language": "python",
   "name": "python3"
  },
  "language_info": {
   "codemirror_mode": {
    "name": "ipython",
    "version": 3
   },
   "file_extension": ".py",
   "mimetype": "text/x-python",
   "name": "python",
   "nbconvert_exporter": "python",
   "pygments_lexer": "ipython3",
   "version": "3.8.10"
  }
 },
 "nbformat": 4,
 "nbformat_minor": 2
}
