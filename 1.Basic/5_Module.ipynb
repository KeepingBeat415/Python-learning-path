{
 "cells": [
  {
   "cell_type": "markdown",
   "metadata": {},
   "source": [
    "### PyPI\n",
    "PyPI is a repository for open-source third-party Python packages\n",
    "    - `pip install` at the command line to install these packages\n",
    "\n",
    "### Modules\n",
    "- python script file\n",
    "\n",
    "### Package\n",
    "- include `__init__.py` file in the directory\n",
    "\n",
    "### __name__ and __main__\n",
    "- all the code at indentation level zero gets run when you call the script file\n",
    "- `__name__` built-in variable, when call the scrip file, at backend, Python assign `__name__ = \"__main__\"`\n",
    "\n",
    "```python\n",
    "\n",
    "def func():\n",
    "    print(\"Func() In one.py\")\n",
    "\n",
    "print(\"top level in one.py\")\n",
    "\n",
    "if __name__ == '__main__':\n",
    "    print('one.py is being run directly')\n",
    "else:\n",
    "    print('one.py has been imported')\n",
    "\n",
    "```"
   ]
  }
 ],
 "metadata": {
  "kernelspec": {
   "display_name": "base",
   "language": "python",
   "name": "python3"
  },
  "language_info": {
   "name": "python",
   "version": "3.8.10"
  }
 },
 "nbformat": 4,
 "nbformat_minor": 2
}
